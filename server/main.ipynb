{
 "cells": [
  {
   "cell_type": "markdown",
   "metadata": {},
   "source": [
    "# Tensor"
   ]
  },
  {
   "cell_type": "code",
   "execution_count": 2,
   "metadata": {},
   "outputs": [],
   "source": [
    "import pandas as pd\n",
    "\n",
    "import tensorflow as tf"
   ]
  },
  {
   "cell_type": "code",
   "execution_count": 3,
   "metadata": {},
   "outputs": [],
   "source": [
    "lookup = pd.read_pickle('./data/lookup')\n",
    "batches = pd.read_pickle('./data/batches')"
   ]
  },
  {
   "cell_type": "code",
   "execution_count": 4,
   "metadata": {},
   "outputs": [],
   "source": [
    "tf.reset_default_graph()\n",
    "g = tf.get_default_graph()\n",
    "\n",
    "X = tf.placeholder(dtype=tf.int32, shape=[None, 150])\n",
    "Y = tf.placeholder(dtype=tf.float32, shape=[None, 1])\n",
    "\n",
    "attentions, _ = tf.nn.bidirectional_dynamic_rnn(\n",
    "    tf.nn.rnn_cell.BasicLSTMCell(32),\n",
    "    tf.nn.rnn_cell.BasicLSTMCell(32),\n",
    "    tf.nn.embedding_lookup(tf.Variable(lookup, dtype=tf.float32), X),\n",
    "    dtype=tf.float32\n",
    ")\n",
    "attention = tf.concat(attentions, axis=2)\n",
    "F = tf.reshape(\n",
    "    tf.layers.conv1d(\n",
    "        tf.transpose(attention, [0, 2, 1]),\n",
    "        64,\n",
    "        64\n",
    "    ),\n",
    "    shape=[-1, 64]\n",
    ")\n",
    "\n",
    "L = tf.layers.dense(F, 16, activation=tf.sigmoid)\n",
    "output = tf.layers.dense(L, 1, activation=tf.sigmoid)\n",
    "\n",
    "loss = tf.losses.mean_squared_error(Y, output)\n",
    "learn = tf.train.AdamOptimizer().minimize(loss)\n",
    "\n",
    "init = tf.global_variables_initializer()\n",
    "\n",
    "sess = tf.Session(graph=g)\n",
    "sess.run(init)"
   ]
  },
  {
   "cell_type": "code",
   "execution_count": 13,
   "metadata": {},
   "outputs": [
    {
     "name": "stdout",
     "output_type": "stream",
     "text": [
      "0.02044429\n",
      "0.020140618\n",
      "0.019734213\n",
      "0.01988582\n",
      "0.020440796\n",
      "0.019544084\n",
      "0.020156655\n",
      "0.019822568\n",
      "0.018898854\n",
      "0.019460408\n",
      "0.01862282\n",
      "0.019632142\n",
      "0.019941906\n",
      "0.018739276\n",
      "0.01911088\n",
      "0.018585254\n"
     ]
    }
   ],
   "source": [
    "for iter_ in range(len(batches)):\n",
    "    \n",
    "    feed = {\n",
    "        X: batches[iter_]['X'],\n",
    "        Y: batches[iter_]['Y']\n",
    "    }\n",
    "    \n",
    "    loss_, _ = sess.run([loss, learn], feed_dict=feed)\n",
    "    iter_ += 1\n",
    "    if not iter_ % 20:\n",
    "        print(loss_)"
   ]
  },
  {
   "cell_type": "code",
   "execution_count": 12,
   "metadata": {},
   "outputs": [
    {
     "name": "stdout",
     "output_type": "stream",
     "text": [
      "[0.20854172]\n"
     ]
    }
   ],
   "source": [
    "saver = tf.train.Saver()\n",
    "saver.save(sess, './data/checkpoint/model')\n",
    "\n",
    "print(sess.run(output, feed_dict=feed)[-1])"
   ]
  },
  {
   "cell_type": "code",
   "execution_count": null,
   "metadata": {},
   "outputs": [],
   "source": []
  }
 ],
 "metadata": {
  "kernelspec": {
   "display_name": "Python 3",
   "language": "python",
   "name": "python3"
  },
  "language_info": {
   "codemirror_mode": {
    "name": "ipython",
    "version": 3
   },
   "file_extension": ".py",
   "mimetype": "text/x-python",
   "name": "python",
   "nbconvert_exporter": "python",
   "pygments_lexer": "ipython3",
   "version": "3.6.5"
  }
 },
 "nbformat": 4,
 "nbformat_minor": 2
}
